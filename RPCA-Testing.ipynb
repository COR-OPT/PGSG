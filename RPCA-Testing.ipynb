{
 "cells": [
  {
   "cell_type": "markdown",
   "metadata": {
    "deletable": true,
    "editable": true
   },
   "source": [
    "# Testing RPCA-PGSG on tree dataset\n",
    "Reads in ./data/trees.bin\n",
    "\n",
    "Writes output to ./results/"
   ]
  },
  {
   "cell_type": "code",
   "execution_count": 1,
   "metadata": {
    "collapsed": false,
    "deletable": true,
    "editable": true
   },
   "outputs": [],
   "source": [
    "include(\"./PGSG.jl\")\n",
    "using PGSG"
   ]
  },
  {
   "cell_type": "code",
   "execution_count": null,
   "metadata": {
    "collapsed": false,
    "deletable": true,
    "editable": true,
    "scrolled": true
   },
   "outputs": [
    {
     "name": "stdout",
     "output_type": "stream",
     "text": [
      "load data...\n",
      "svd initialization...\n",
      "start solver...\n",
      "Inner loop finished\n",
      "Inner loop finished\n"
     ]
    }
   ],
   "source": [
    "##### load data #####\n",
    "println(\"load data...\")\n",
    "n,m = 20480, 102;\n",
    "fid = open(\"./data/trees.bin\",\"r\")\n",
    "A   = read(fid, UInt8, n*m)\n",
    "A   = reshape(A, n, m)\n",
    "close(fid)\n",
    "\n",
    "A   = A/255\n",
    "\n",
    "##### set up parameters #####\n",
    "k   = 10; #number of componets in low rank model\n",
    "\n",
    "# svd initialization\n",
    "println(\"svd initialization...\")\n",
    "UΣV,nconv,niter,nmult,resid = svds(A,nsv=k,tol=1e-12)\n",
    "U   = diagm(sqrt(UΣV[:S]))*UΣV[:U].';\n",
    "V   = diagm(sqrt(UΣV[:S]))*UΣV[:V];\n",
    "for I in eachindex(U)\n",
    "    U[I] < 0.0 ? U[I] = 0.0 :\n",
    "    U[I] > 1.0 ? U[I] = 1.0 : continue\n",
    "end\n",
    "for I in eachindex(V)\n",
    "    V[I] < 0.0 ? V[I] = 0.0 :\n",
    "    V[I] > 1.0 ? V[I] = 1.0 : continue\n",
    "end\n",
    "\n",
    "##### apply solver #####\n",
    "println(\"start solver...\")\n",
    "RPCA_PF_PGSG(U,V,A,0.1,10);\n"
   ]
  },
  {
   "cell_type": "markdown",
   "metadata": {
    "deletable": true,
    "editable": true
   },
   "source": [
    "# Write output to Results directory"
   ]
  },
  {
   "cell_type": "code",
   "execution_count": null,
   "metadata": {
    "collapsed": true,
    "deletable": true,
    "editable": true
   },
   "outputs": [],
   "source": [
    "##### recover S and save data #####\n",
    "m,n = size(A);\n",
    "println(\"recover S...\")\n",
    "L = U.'*V;\n",
    "r = A - L;\n",
    "κσ = 1;\n",
    "# κσ = κ;\n",
    "S = zeros(m,n);\n",
    "for I in eachindex(S)\n",
    "    r[I] >  κσ ? S[I] = r[I] - κσ :\n",
    "    r[I] < -κσ ? S[I] = r[I] + κσ : continue;\n",
    "end\n",
    "\n",
    "##### save results #####\n",
    "println(\"save data...\")\n",
    "fid = open(\"./results/trees_Huber_UV.bin\",\"w\");\n",
    "write(fid,U,V);\n",
    "close(fid);\n",
    "fid = open(\"./results/trees_Huber_LS.bin\",\"w\");\n",
    "write(fid,L,S);\n",
    "close(fid);\n",
    "fid = open(\"./results/trees_Huber_R.bin\",\"w\");\n",
    "write(fid,r);\n",
    "close(fid);\n"
   ]
  },
  {
   "cell_type": "markdown",
   "metadata": {
    "deletable": true,
    "editable": true
   },
   "source": [
    "# Generate Pictures out of Results directory"
   ]
  },
  {
   "cell_type": "code",
   "execution_count": null,
   "metadata": {
    "collapsed": false,
    "deletable": true,
    "editable": true
   },
   "outputs": [],
   "source": [
    "#======= Analysis the Results from RPCA =======#\n",
    "using PyPlot\n",
    "\n",
    "m,n = 20480, 102;\n",
    "mp,np = 128, 160;\n",
    "\n",
    "# load data\n",
    "fid = open(\"./results/trees_Huber_LS.bin\",\"r\");\n",
    "L   = read(fid, Float64, m*n);\n",
    "S   = read(fid, Float64, m*n);\n",
    "close(fid)\n",
    "fid = open(\"./results/trees_Huber_R.bin\",\"r\");\n",
    "R   = read(fid, Float64, m*n);\n",
    "close(fid)\n",
    "L   = reshape(L,m,n);\n",
    "S   = reshape(S,m,n);\n",
    "R   = reshape(R,m,n);\n",
    "P   = copy(S);\n",
    "\n",
    "id  = [101,102]\n",
    "L   = L[:,id]\n",
    "S   = S[:,id]\n",
    "R   = R[:,id]\n",
    "P   = P[:,id]\n",
    "\n",
    "for I in eachindex(L)\n",
    "    L[I] < 0.0 ? L[I] = 0.0 :\n",
    "    L[I] > 1.0 ? L[I] = 1.0 : continue\n",
    "end\n",
    "for I in eachindex(S)\n",
    "    S[I] = abs(S[I])\n",
    "    R[I] = abs(R[I])\n",
    "    # S[I] == 0.0 || (S[I] = 1.0)\n",
    "    # R[I] == 0.0 || (R[I] = 1.0)\n",
    "end\n",
    "\n",
    "for I in eachindex(P)\n",
    "    P[I] == 0.0 || (P[I] = 1.0)\n",
    "end\n",
    "\n",
    "# plot result\n",
    "\n",
    "for i in 1:length(id)\n",
    "    imshow([reshape(L[:,i],mp,np);reshape(R[:,i],mp,np);reshape(P[:,i],mp,np)], cmap=\"gist_gray\");\n",
    "    axis(\"off\")\n",
    "    savefig(@sprintf(\"./results/trees_h%06d.eps\",i+2),bbox_inches=\"tight\",transparent=true);\n",
    "end"
   ]
  },
  {
   "cell_type": "code",
   "execution_count": null,
   "metadata": {
    "collapsed": true,
    "deletable": true,
    "editable": true
   },
   "outputs": [],
   "source": []
  }
 ],
 "metadata": {
  "kernelspec": {
   "display_name": "Julia 0.5.1",
   "language": "julia",
   "name": "julia-0.5"
  },
  "language_info": {
   "file_extension": ".jl",
   "mimetype": "application/julia",
   "name": "julia",
   "version": "0.5.1"
  }
 },
 "nbformat": 4,
 "nbformat_minor": 2
}
