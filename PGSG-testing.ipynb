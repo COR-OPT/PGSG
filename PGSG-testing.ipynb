{
 "cells": [
  {
   "cell_type": "markdown",
   "metadata": {
    "deletable": true,
    "editable": true
   },
   "source": [
    "# Examples for PGSG\n",
    "\n",
    "This notebook contains multiple simple tests for the optimization procedures in PGSG.jl"
   ]
  },
  {
   "cell_type": "code",
   "execution_count": 1,
   "metadata": {
    "collapsed": false,
    "deletable": true,
    "editable": true
   },
   "outputs": [],
   "source": [
    "include(\"PGSG.jl\")\n",
    "using PGSG"
   ]
  },
  {
   "cell_type": "markdown",
   "metadata": {
    "deletable": true,
    "editable": true
   },
   "source": [
    "# Example 1a : Norm Squared with Gaussian Noise\n",
    "Our function to minimize is (1/2)|x|^2.\n",
    "\n",
    "Our gradient oracle adds multivariate normal noise to the true gradient: x.\n",
    "\n",
    "This is convex and has minimizer at (0,0)."
   ]
  },
  {
   "cell_type": "code",
   "execution_count": 2,
   "metadata": {
    "collapsed": false,
    "deletable": true,
    "editable": true
   },
   "outputs": [
    {
     "data": {
      "text/plain": [
       "grad_norm_squared (generic function with 1 method)"
      ]
     },
     "execution_count": 2,
     "metadata": {},
     "output_type": "execute_result"
    }
   ],
   "source": [
    "using Distributions\n",
    "\n",
    "NormalNoise = Normal(0.0, 1.0)\n",
    "function grad_norm_squared(x)\n",
    "    return x + [rand(NormalNoise);rand(NormalNoise)]\n",
    "end\n"
   ]
  },
  {
   "cell_type": "code",
   "execution_count": 3,
   "metadata": {
    "collapsed": false,
    "deletable": true,
    "editable": true
   },
   "outputs": [
    {
     "data": {
      "text/plain": [
       "2-element Array{Float64,1}:\n",
       " 0.258761\n",
       " 0.254567"
      ]
     },
     "execution_count": 3,
     "metadata": {},
     "output_type": "execute_result"
    }
   ],
   "source": [
    "x0 = [10.0;10.0]\n",
    "pgsg(x0, grad_norm_squared, identity, 0.5, 1.0, 10)"
   ]
  },
  {
   "cell_type": "code",
   "execution_count": 4,
   "metadata": {
    "collapsed": false,
    "deletable": true,
    "editable": true
   },
   "outputs": [
    {
     "data": {
      "text/plain": [
       "2-element Array{Float64,1}:\n",
       " -0.00367329\n",
       "  0.00678734"
      ]
     },
     "execution_count": 4,
     "metadata": {},
     "output_type": "execute_result"
    }
   ],
   "source": [
    "pgsg(x0, grad_norm_squared, identity, 0.5, 1.0, 100)"
   ]
  },
  {
   "cell_type": "code",
   "execution_count": 5,
   "metadata": {
    "collapsed": false
   },
   "outputs": [
    {
     "data": {
      "text/plain": [
       "2-element Array{Float64,1}:\n",
       " -0.0112572\n",
       " -0.0041451"
      ]
     },
     "execution_count": 5,
     "metadata": {},
     "output_type": "execute_result"
    }
   ],
   "source": [
    "pf_pgsg(x0, grad_norm_squared, identity, 0.1, 100)"
   ]
  },
  {
   "cell_type": "markdown",
   "metadata": {},
   "source": [
    "# Example 1b : Constrained Norm Squared with Gaussian Noise\n",
    "Our function to minimize is (1/2)|x|^2 with feasible region x \\geq [1;1].\n",
    "\n",
    "Our gradient oracle adds multivariate normal noise to the true gradient: x.\n",
    "\n",
    "This is convex and has minimizer at (1,1)."
   ]
  },
  {
   "cell_type": "code",
   "execution_count": 6,
   "metadata": {
    "collapsed": false
   },
   "outputs": [
    {
     "data": {
      "text/plain": [
       "projOne (generic function with 1 method)"
      ]
     },
     "execution_count": 6,
     "metadata": {},
     "output_type": "execute_result"
    }
   ],
   "source": [
    "function projOne(x)\n",
    "   r=[x[1];x[2]]\n",
    "    if x[1]<1 \n",
    "        r[1]=1\n",
    "    end\n",
    "    if x[2]<1\n",
    "        r[2]=1\n",
    "    end\n",
    "    return r\n",
    "end"
   ]
  },
  {
   "cell_type": "code",
   "execution_count": 7,
   "metadata": {
    "collapsed": false
   },
   "outputs": [
    {
     "data": {
      "text/plain": [
       "2-element Array{Float64,1}:\n",
       " 1.00014\n",
       " 1.00014"
      ]
     },
     "execution_count": 7,
     "metadata": {},
     "output_type": "execute_result"
    }
   ],
   "source": [
    "x0 = [10.0;10.0]\n",
    "pgsg(x0, grad_norm_squared, projOne, 0.5, 1.0, 10)"
   ]
  },
  {
   "cell_type": "code",
   "execution_count": 8,
   "metadata": {
    "collapsed": false
   },
   "outputs": [
    {
     "data": {
      "text/plain": [
       "2-element Array{Float64,1}:\n",
       " 1.00041\n",
       " 1.00043"
      ]
     },
     "execution_count": 8,
     "metadata": {},
     "output_type": "execute_result"
    }
   ],
   "source": [
    "pf_pgsg(x0, grad_norm_squared, projOne, 0.1, 100)"
   ]
  },
  {
   "cell_type": "markdown",
   "metadata": {
    "deletable": true,
    "editable": true
   },
   "source": [
    "# Example 2 : Nonlinear Least Squares\n",
    "We consider minimizing \\EE[ (1/2)(a^T x - b)^2] + \\|x\\|_{\\lambda}\n",
    "\n",
    "where a is normally distributed vector centered at one\n",
    "\n",
    "and lambda is a positive constant (less than one for non-convex)"
   ]
  },
  {
   "cell_type": "code",
   "execution_count": 13,
   "metadata": {
    "collapsed": false,
    "deletable": true,
    "editable": true
   },
   "outputs": [
    {
     "name": "stderr",
     "output_type": "stream",
     "text": [
      "WARNING: Method definition grad_Nonlinear_Least_Squares(Any) in module Main"
     ]
    },
    {
     "data": {
      "text/plain": [
       "grad_Nonlinear_Least_Squares (generic function with 1 method)"
      ]
     },
     "execution_count": 13,
     "metadata": {},
     "output_type": "execute_result"
    },
    {
     "name": "stderr",
     "output_type": "stream",
     "text": [
      " at In[9]:5 overwritten at In[13]:5.\n"
     ]
    }
   ],
   "source": [
    "NormalNoiseOne = Normal(1.0, 1.0)\n",
    "b = 2.0\n",
    "lambda=0.5\n",
    "function grad_Nonlinear_Least_Squares(x)\n",
    "    a = [rand(NormalNoiseOne);rand(NormalNoiseOne)]\n",
    "    return (a'x - b)[1]*a + lambda*(norm(x)^(lambda-2))*x\n",
    "end\n"
   ]
  },
  {
   "cell_type": "code",
   "execution_count": 14,
   "metadata": {
    "collapsed": false
   },
   "outputs": [
    {
     "data": {
      "text/plain": [
       "2-element Array{Float64,1}:\n",
       " 0.532397\n",
       " 0.532709"
      ]
     },
     "execution_count": 14,
     "metadata": {},
     "output_type": "execute_result"
    }
   ],
   "source": [
    "x0 = [10.0;10.0]\n",
    "pgsg(x0, grad_Nonlinear_Least_Squares, identity, 0.5, 1.0, 100)"
   ]
  },
  {
   "cell_type": "code",
   "execution_count": 15,
   "metadata": {
    "collapsed": false
   },
   "outputs": [
    {
     "data": {
      "text/plain": [
       "2-element Array{Float64,1}:\n",
       " 0.531608\n",
       " 0.527812"
      ]
     },
     "execution_count": 15,
     "metadata": {},
     "output_type": "execute_result"
    }
   ],
   "source": [
    "x0 = [10.0;10.0]\n",
    "pf_pgsg(x0, grad_Nonlinear_Least_Squares, identity, 0.1, 100)"
   ]
  },
  {
   "cell_type": "markdown",
   "metadata": {
    "deletable": true,
    "editable": true
   },
   "source": [
    "# Example 3 : A Convex Composite Problem\n"
   ]
  },
  {
   "cell_type": "code",
   "execution_count": null,
   "metadata": {
    "collapsed": true,
    "deletable": true,
    "editable": true
   },
   "outputs": [],
   "source": []
  }
 ],
 "metadata": {
  "kernelspec": {
   "display_name": "Julia 0.5.1",
   "language": "julia",
   "name": "julia-0.5"
  },
  "language_info": {
   "file_extension": ".jl",
   "mimetype": "application/julia",
   "name": "julia",
   "version": "0.5.1"
  }
 },
 "nbformat": 4,
 "nbformat_minor": 2
}
